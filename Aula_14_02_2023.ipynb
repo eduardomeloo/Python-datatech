{
  "nbformat": 4,
  "nbformat_minor": 0,
  "metadata": {
    "colab": {
      "provenance": [],
      "authorship_tag": "ABX9TyMiAY10REtTkZ1W74KVbNXM",
      "include_colab_link": true
    },
    "kernelspec": {
      "name": "python3",
      "display_name": "Python 3"
    },
    "language_info": {
      "name": "python"
    }
  },
  "cells": [
    {
      "cell_type": "markdown",
      "metadata": {
        "id": "view-in-github",
        "colab_type": "text"
      },
      "source": [
        "<a href=\"https://colab.research.google.com/github/eduardomeloo/Python-datatech/blob/master/Aula_14_02_2023.ipynb\" target=\"_parent\"><img src=\"https://colab.research.google.com/assets/colab-badge.svg\" alt=\"Open In Colab\"/></a>"
      ]
    },
    {
      "cell_type": "markdown",
      "source": [
        "1- And, Or, IN\n",
        "2- Condicionais\n",
        "3- Identação\n",
        "4- Input"
      ],
      "metadata": {
        "id": "2Gg4hOOHL1tp"
      }
    },
    {
      "cell_type": "code",
      "source": [
        "3 > 1"
      ],
      "metadata": {
        "colab": {
          "base_uri": "https://localhost:8080/"
        },
        "id": "YfRisaJaMBWB",
        "outputId": "8eec6fad-3cc6-43b4-ff59-4b418e5cb954"
      },
      "execution_count": 1,
      "outputs": [
        {
          "output_type": "execute_result",
          "data": {
            "text/plain": [
              "True"
            ]
          },
          "metadata": {},
          "execution_count": 1
        }
      ]
    },
    {
      "cell_type": "code",
      "source": [
        "10 > 5 and 5 > 10"
      ],
      "metadata": {
        "colab": {
          "base_uri": "https://localhost:8080/"
        },
        "id": "y6UvyUBDMHRy",
        "outputId": "dce74c79-72fb-43ba-a07d-8640a2578f2f"
      },
      "execution_count": 2,
      "outputs": [
        {
          "output_type": "execute_result",
          "data": {
            "text/plain": [
              "False"
            ]
          },
          "metadata": {},
          "execution_count": 2
        }
      ]
    },
    {
      "cell_type": "code",
      "source": [
        "acougue = {'Carne': 10, 'Frango': 6, 'Linguica': 7}\n",
        "\n",
        "print('Carne' in acougue)\n",
        "print('Carne' in acougue.keys())\n",
        "print(10 in acougue.values())"
      ],
      "metadata": {
        "colab": {
          "base_uri": "https://localhost:8080/"
        },
        "id": "Q-bmOK-wMS-K",
        "outputId": "406055c2-2310-4a76-db10-b5a449f6539f"
      },
      "execution_count": 5,
      "outputs": [
        {
          "output_type": "stream",
          "name": "stdout",
          "text": [
            "True\n",
            "True\n",
            "True\n"
          ]
        }
      ]
    },
    {
      "cell_type": "code",
      "source": [
        "type(acougue.keys())"
      ],
      "metadata": {
        "colab": {
          "base_uri": "https://localhost:8080/"
        },
        "id": "0s63VIGPRRW6",
        "outputId": "baaa8102-9f01-4ff9-ef26-9a229ea7c939"
      },
      "execution_count": 6,
      "outputs": [
        {
          "output_type": "execute_result",
          "data": {
            "text/plain": [
              "dict_keys"
            ]
          },
          "metadata": {},
          "execution_count": 6
        }
      ]
    },
    {
      "cell_type": "code",
      "source": [
        "print(('Carne', 10) in acougue.items())\n",
        "print(acougue.items())"
      ],
      "metadata": {
        "colab": {
          "base_uri": "https://localhost:8080/"
        },
        "id": "DKLA6klERktB",
        "outputId": "45dc415d-2709-4847-db7c-c2a6c0d34a9a"
      },
      "execution_count": 8,
      "outputs": [
        {
          "output_type": "stream",
          "name": "stdout",
          "text": [
            "True\n",
            "dict_items([('Carne', 10), ('Frango', 6), ('Linguica', 7)])\n"
          ]
        }
      ]
    },
    {
      "cell_type": "code",
      "source": [
        "if 100<10:\n",
        "  print('100 é menor do que 10')\n",
        "else:\n",
        "  print('100 é maior do que 10')"
      ],
      "metadata": {
        "colab": {
          "base_uri": "https://localhost:8080/"
        },
        "id": "9k93jjIZSvqa",
        "outputId": "fc723aef-bea9-4dae-b38e-7177b6f8fb04"
      },
      "execution_count": 9,
      "outputs": [
        {
          "output_type": "stream",
          "name": "stdout",
          "text": [
            "100 é maior do que 10\n"
          ]
        }
      ]
    },
    {
      "cell_type": "code",
      "source": [
        "frutas_1 = ['Banana','Morango','Melancia']\n",
        "frutas_2 = ['Abacate','Pera','Uva']\n",
        "\n",
        "if 'Abacate' in frutas_1:\n",
        "  print('Abacate está na lista 1')\n",
        "elif 'Abacate' in frutas_2:\n",
        "  print('Abacate está na lista 2')\n",
        "else:\n",
        "  print('Abacate não está na lista 1 nem na lista 2')"
      ],
      "metadata": {
        "colab": {
          "base_uri": "https://localhost:8080/"
        },
        "id": "4VbQKUy5Zf2R",
        "outputId": "ffc1807e-baa0-4c71-ee1d-d96d13751cc9"
      },
      "execution_count": 11,
      "outputs": [
        {
          "output_type": "stream",
          "name": "stdout",
          "text": [
            "Abacate está na lista 2\n"
          ]
        }
      ]
    },
    {
      "cell_type": "code",
      "source": [],
      "metadata": {
        "id": "M7zNY9_oXWPB"
      },
      "execution_count": null,
      "outputs": []
    }
  ]
}