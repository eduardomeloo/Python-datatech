{
  "nbformat": 4,
  "nbformat_minor": 0,
  "metadata": {
    "colab": {
      "provenance": [],
      "authorship_tag": "ABX9TyO7pTEzd+bFE8eXuI+hBufk",
      "include_colab_link": true
    },
    "kernelspec": {
      "name": "python3",
      "display_name": "Python 3"
    },
    "language_info": {
      "name": "python"
    }
  },
  "cells": [
    {
      "cell_type": "markdown",
      "metadata": {
        "id": "view-in-github",
        "colab_type": "text"
      },
      "source": [
        "<a href=\"https://colab.research.google.com/github/eduardomeloo/Python-datatech/blob/master/Aula_23_02_2023.ipynb\" target=\"_parent\"><img src=\"https://colab.research.google.com/assets/colab-badge.svg\" alt=\"Open In Colab\"/></a>"
      ]
    },
    {
      "cell_type": "markdown",
      "source": [],
      "metadata": {
        "id": "7lM8Ol9miu7Y"
      }
    },
    {
      "cell_type": "markdown",
      "source": [
        "**Funções**\n",
        "\n",
        "---\n",
        "\n",
        "\n",
        "1- Funções Built In: São funções Nativas do Python\n",
        "\n",
        "\n",
        "---\n",
        "\n",
        "\n",
        "2- Funções Personalizadas\n"
      ],
      "metadata": {
        "id": "bfjJ-EhAiw1Z"
      }
    },
    {
      "cell_type": "markdown",
      "source": [
        "https://docs.python.org/3.11/library/functions.html\n"
      ],
      "metadata": {
        "id": "5jh1cz9DosB8"
      }
    },
    {
      "cell_type": "code",
      "source": [
        "def avg(values: list) -> float:\n",
        "  \"\"\"Calcula a média aritimética simples.\"\"\"\n",
        "  return sum(values) / len(values)\n",
        "\n",
        "def avg2(values: list):\n",
        "  \"\"\"Calcula a média aritimética simples.\"\"\"\n",
        "  return sum(values) / len(values)\n",
        "\n",
        "print(avg([2,2,2]))\n",
        "print(avg2([10,5,10]))"
      ],
      "metadata": {
        "colab": {
          "base_uri": "https://localhost:8080/"
        },
        "id": "ZwVNbog9otk7",
        "outputId": "7de72ec6-ec8c-4911-d57c-c9baf5b23230"
      },
      "execution_count": 9,
      "outputs": [
        {
          "output_type": "stream",
          "name": "stdout",
          "text": [
            "2.0\n",
            "8.333333333333334\n"
          ]
        }
      ]
    },
    {
      "cell_type": "code",
      "source": [
        "def weighted_avg(values: list, weights: list) -> float:\n",
        "  valores_vezes_pesos = [peso * valor for peso, valor in zip(values, weights)]\n",
        "  numerador = sum(valores_vezes_pesos)\n",
        "  denominador = sum(weights)\n",
        "  return numerador / denominador\n",
        "\n",
        "valores = [10,20,30]\n",
        "pesos = [1,2,3]\n",
        "\n",
        "print(weighted_avg(valores, pesos))"
      ],
      "metadata": {
        "colab": {
          "base_uri": "https://localhost:8080/"
        },
        "id": "Tzay-KSGpQPa",
        "outputId": "ace00f7d-4ef8-4ca1-a50a-40864a6a3125"
      },
      "execution_count": 16,
      "outputs": [
        {
          "output_type": "stream",
          "name": "stdout",
          "text": [
            "23.333333333333332\n"
          ]
        }
      ]
    },
    {
      "cell_type": "code",
      "source": [
        "def weighted_avg(values: list, weights: list) -> float:\n",
        "  if len(valores) != len(pesos):\n",
        "    raise ValueError(\"As listas de valores e pesos tem tamanhos diferentes\")\n",
        "  numerador = sum([peso * valor for peso, valor in zip(values, weights)])\n",
        "  denominador = sum(weights)\n",
        "  return numerador / denominador\n",
        "\n",
        "valores = [10,20,30]\n",
        "pesos = [1,2,3]\n",
        "\n",
        "print(weighted_avg(valores, pesos))"
      ],
      "metadata": {
        "colab": {
          "base_uri": "https://localhost:8080/"
        },
        "id": "BF3H38swyOVx",
        "outputId": "a48a6add-4d6c-4f49-afeb-a6a37c379048"
      },
      "execution_count": 19,
      "outputs": [
        {
          "output_type": "stream",
          "name": "stdout",
          "text": [
            "23.333333333333332\n"
          ]
        }
      ]
    },
    {
      "cell_type": "code",
      "source": [],
      "metadata": {
        "id": "xSxRkVsryukh"
      },
      "execution_count": null,
      "outputs": []
    }
  ]
}