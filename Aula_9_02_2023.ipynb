{
  "nbformat": 4,
  "nbformat_minor": 0,
  "metadata": {
    "colab": {
      "provenance": [],
      "authorship_tag": "ABX9TyOiSCnhz0aPDuqymTApZRoJ",
      "include_colab_link": true
    },
    "kernelspec": {
      "name": "python3",
      "display_name": "Python 3"
    },
    "language_info": {
      "name": "python"
    }
  },
  "cells": [
    {
      "cell_type": "markdown",
      "metadata": {
        "id": "view-in-github",
        "colab_type": "text"
      },
      "source": [
        "<a href=\"https://colab.research.google.com/github/eduardomeloo/Python-datatech/blob/master/Aula_9_02_2023.ipynb\" target=\"_parent\"><img src=\"https://colab.research.google.com/assets/colab-badge.svg\" alt=\"Open In Colab\"/></a>"
      ]
    },
    {
      "cell_type": "markdown",
      "source": [
        "**Estrutura de Dados - Container**"
      ],
      "metadata": {
        "id": "oXB8RNxtbmpR"
      }
    },
    {
      "cell_type": "code",
      "source": [
        "lista_1 = [10,20,30,40,50,60]\n",
        "lista_2 = [500, True, 3.2, \"Eduardo\"]"
      ],
      "metadata": {
        "id": "SOGA7HZMbrvL"
      },
      "execution_count": 2,
      "outputs": []
    },
    {
      "cell_type": "code",
      "source": [
        "print(type(lista_2))\n",
        "print(type(lista_2[-1]))\n",
        "print(lista_2[-1][0])"
      ],
      "metadata": {
        "colab": {
          "base_uri": "https://localhost:8080/"
        },
        "id": "RfsYXkhqb6vo",
        "outputId": "ac94129d-ff25-484c-bb49-a0523699f4b1"
      },
      "execution_count": 6,
      "outputs": [
        {
          "output_type": "stream",
          "name": "stdout",
          "text": [
            "<class 'list'>\n",
            "<class 'str'>\n",
            "E\n"
          ]
        }
      ]
    },
    {
      "cell_type": "code",
      "source": [
        "lista_4 = [10, \"Thiago\", [\"Deivid\",\"Diego\"]]"
      ],
      "metadata": {
        "id": "avcuI4WKdCFt"
      },
      "execution_count": 8,
      "outputs": []
    },
    {
      "cell_type": "code",
      "source": [
        "print(lista_4[2][1][0])"
      ],
      "metadata": {
        "colab": {
          "base_uri": "https://localhost:8080/"
        },
        "id": "Q9eggAzTdZGl",
        "outputId": "510628ff-570e-496a-d3a2-c7d046130b98"
      },
      "execution_count": 10,
      "outputs": [
        {
          "output_type": "stream",
          "name": "stdout",
          "text": [
            "D\n"
          ]
        }
      ]
    },
    {
      "cell_type": "code",
      "source": [
        "lista_nomes = ['Eduardo', 'Tété', 'Eduardo', [\"edu\", \"du\"]]"
      ],
      "metadata": {
        "id": "atywtpfReEJ9"
      },
      "execution_count": 17,
      "outputs": []
    },
    {
      "cell_type": "code",
      "source": [
        "print(lista_nomes)\n",
        "print(len(lista_nomes))"
      ],
      "metadata": {
        "colab": {
          "base_uri": "https://localhost:8080/"
        },
        "id": "kM6FhOdOeKnt",
        "outputId": "247374b3-8ec9-4c3d-8d82-fa07debbf3b1"
      },
      "execution_count": 18,
      "outputs": [
        {
          "output_type": "stream",
          "name": "stdout",
          "text": [
            "['Eduardo', 'Tété', 'Eduardo', ['edu', 'du']]\n",
            "4\n"
          ]
        }
      ]
    },
    {
      "cell_type": "code",
      "source": [
        "dicionario_1 = {\n",
        "    'Deivid': 25,\n",
        "    'Henrique': 33,\n",
        "    'Eduardo': 30\n",
        "}"
      ],
      "metadata": {
        "id": "rr9LyKhjev9N"
      },
      "execution_count": 19,
      "outputs": []
    },
    {
      "cell_type": "code",
      "source": [
        "print(dicionario_1['Deivid'])\n",
        "print(dicionario_1['Eduardo'])"
      ],
      "metadata": {
        "colab": {
          "base_uri": "https://localhost:8080/"
        },
        "id": "WuwxKqcSfzVE",
        "outputId": "5c15a142-4f5d-44fa-ad74-1620dbed7e9e"
      },
      "execution_count": 23,
      "outputs": [
        {
          "output_type": "stream",
          "name": "stdout",
          "text": [
            "25\n",
            "30\n"
          ]
        }
      ]
    },
    {
      "cell_type": "code",
      "source": [
        "dicionario_2 = {25: 'Deivid', 33: 'Henrique'}"
      ],
      "metadata": {
        "id": "H4lc9FdagP6T"
      },
      "execution_count": 24,
      "outputs": []
    },
    {
      "cell_type": "code",
      "source": [
        "print(dicionario_2[25])\n",
        "print(dicionario_2[33])"
      ],
      "metadata": {
        "colab": {
          "base_uri": "https://localhost:8080/"
        },
        "id": "o6ywW2ujgefr",
        "outputId": "ce7e8744-92bc-4604-96ac-2b7f5ddeba1f"
      },
      "execution_count": 26,
      "outputs": [
        {
          "output_type": "stream",
          "name": "stdout",
          "text": [
            "Deivid\n",
            "Henrique\n"
          ]
        }
      ]
    },
    {
      "cell_type": "code",
      "source": [
        "alimentos = ['Arroz', 'Feijão', 'Nescau', 'Ovos']\n",
        "bebidas = ['Coca-cola', 'Suco', 'Guaravita']\n",
        "utilitario = ['Guarda-sol', 'Toalha de Mesa', 'Prato']\n",
        "\n",
        "corredores = {'Corredor1':alimentos, 'Corredor2':bebidas, 'Corredor3':utilitario}"
      ],
      "metadata": {
        "id": "HVCQmKx0gl5T"
      },
      "execution_count": 31,
      "outputs": []
    },
    {
      "cell_type": "code",
      "source": [
        "print(corredores['Corredor1'])\n",
        "print(corredores['Corredor1'][0])"
      ],
      "metadata": {
        "colab": {
          "base_uri": "https://localhost:8080/"
        },
        "id": "mDOV1yFDhygT",
        "outputId": "dbe26d19-2903-4f43-e352-046fa637b2fd"
      },
      "execution_count": 34,
      "outputs": [
        {
          "output_type": "stream",
          "name": "stdout",
          "text": [
            "['Macarrão', 'Feijão', 'Nescau', 'Ovos']\n",
            "Macarrão\n"
          ]
        }
      ]
    },
    {
      "cell_type": "code",
      "source": [
        "alimentos[0] = 'Macarrão'\n",
        "\n",
        "print(alimentos)"
      ],
      "metadata": {
        "colab": {
          "base_uri": "https://localhost:8080/"
        },
        "id": "klAzS4I2h8K5",
        "outputId": "64ae91cb-d855-452d-b084-e1cc31d5f9e8"
      },
      "execution_count": 33,
      "outputs": [
        {
          "output_type": "stream",
          "name": "stdout",
          "text": [
            "['Macarrão', 'Feijão', 'Nescau', 'Ovos']\n"
          ]
        }
      ]
    },
    {
      "cell_type": "code",
      "source": [
        "dicionario_1['Deivid'] = 10\n",
        "print(dicionario_1)"
      ],
      "metadata": {
        "colab": {
          "base_uri": "https://localhost:8080/"
        },
        "id": "p2kfEutLi5Rx",
        "outputId": "e6ab2abd-8f22-4f5d-ee2c-de54d05a6ea9"
      },
      "execution_count": 36,
      "outputs": [
        {
          "output_type": "stream",
          "name": "stdout",
          "text": [
            "{'Deivid': 10, 'Henrique': 33, 'Eduardo': 30}\n"
          ]
        }
      ]
    },
    {
      "cell_type": "code",
      "source": [
        "tupla_1 = ('Feijão', 'Macarrão', 'Sabonete')\n",
        "print(tupla_1)"
      ],
      "metadata": {
        "colab": {
          "base_uri": "https://localhost:8080/"
        },
        "id": "z92lsE1UkCV4",
        "outputId": "d3f589a0-2e1d-4df1-f72f-21f4d8a2ad85"
      },
      "execution_count": 39,
      "outputs": [
        {
          "output_type": "stream",
          "name": "stdout",
          "text": [
            "('Feijão', 'Macarrão', 'Sabonete')\n"
          ]
        }
      ]
    },
    {
      "cell_type": "code",
      "source": [
        "print(tupla_1[0])\n",
        "print(tupla_1[-1])\n",
        "print(tupla_1[:2])"
      ],
      "metadata": {
        "colab": {
          "base_uri": "https://localhost:8080/"
        },
        "id": "mW5ra0c4kd7g",
        "outputId": "35795320-091d-48ca-f200-c31a30095084"
      },
      "execution_count": 43,
      "outputs": [
        {
          "output_type": "stream",
          "name": "stdout",
          "text": [
            "Feijão\n",
            "Sabonete\n",
            "('Feijão', 'Macarrão')\n"
          ]
        }
      ]
    },
    {
      "cell_type": "code",
      "source": [
        "tupla_2 = ('Macarrão', 10, True, ['Guarda-Sol', 'Banquinho'])\n",
        "print(tupla_2)"
      ],
      "metadata": {
        "colab": {
          "base_uri": "https://localhost:8080/"
        },
        "id": "eXOtKYExkfxI",
        "outputId": "b1115f24-bc2e-4cfa-af37-319e594e397a"
      },
      "execution_count": 49,
      "outputs": [
        {
          "output_type": "stream",
          "name": "stdout",
          "text": [
            "('Macarrão', 10, True, ['Guarda-Sol', 'Banquinho'])\n"
          ]
        }
      ]
    },
    {
      "cell_type": "code",
      "source": [
        "#Tupla São imutáveis\n",
        "tupla_2[3][1] = 'Amendoim'\n",
        "print(tupla_2)"
      ],
      "metadata": {
        "colab": {
          "base_uri": "https://localhost:8080/"
        },
        "id": "E99pM2ZNk4OH",
        "outputId": "d148b35a-db3f-43fd-df12-85acf9002527"
      },
      "execution_count": 50,
      "outputs": [
        {
          "output_type": "stream",
          "name": "stdout",
          "text": [
            "('Macarrão', 10, True, ['Guarda-Sol', 'Amendoim'])\n"
          ]
        }
      ]
    },
    {
      "cell_type": "code",
      "source": [
        "mercadorias = {'Ração', 'Amendoim', 'Bolo'}\n",
        "print(mercadorias)"
      ],
      "metadata": {
        "colab": {
          "base_uri": "https://localhost:8080/"
        },
        "id": "mQhKxY4glYEI",
        "outputId": "300fcc5a-9a56-4410-f480-4a1094c37b11"
      },
      "execution_count": 52,
      "outputs": [
        {
          "output_type": "stream",
          "name": "stdout",
          "text": [
            "{'Bolo', 'Amendoim', 'Ração'}\n"
          ]
        }
      ]
    },
    {
      "cell_type": "code",
      "source": [
        "print(list(mercadorias)[0])"
      ],
      "metadata": {
        "colab": {
          "base_uri": "https://localhost:8080/"
        },
        "id": "2jtxzbGlnxr1",
        "outputId": "0bc1435c-bcaf-49ca-b604-6de3e8ca0469"
      },
      "execution_count": 54,
      "outputs": [
        {
          "output_type": "stream",
          "name": "stdout",
          "text": [
            "Bolo\n"
          ]
        }
      ]
    },
    {
      "cell_type": "code",
      "source": [
        "alimentos = ['Arroz', 'Feijão', 'Nescau', 'Ovos']\n",
        "bebidas = ['Coca-cola', 'Suco', 'Guaravita']\n",
        "utilitario = ['Guarda-sol', 'Toalha de Mesa', 'Prato']"
      ],
      "metadata": {
        "id": "vdNQd6kkrBDU"
      },
      "execution_count": 64,
      "outputs": []
    },
    {
      "cell_type": "code",
      "source": [
        "#Acrescenta um novo elemento no final da lista\n",
        "alimentos.append('Amendoin')\n",
        "print(alimentos)\n",
        "#Remove o último elemento da lista\n",
        "alimentos.pop()\n",
        "print(alimentos)\n",
        "#Insere o alimento na posição 2\n",
        "alimentos.insert(2, 'Frango')\n",
        "print(alimentos)\n",
        "#Remove o alimento Frango\n",
        "alimentos.remove('Frango')\n",
        "print(alimentos)"
      ],
      "metadata": {
        "colab": {
          "base_uri": "https://localhost:8080/"
        },
        "id": "NcnbQTf-r8pL",
        "outputId": "ab8b8b9d-1102-4070-fd69-849e5afa9311"
      },
      "execution_count": 65,
      "outputs": [
        {
          "output_type": "stream",
          "name": "stdout",
          "text": [
            "['Arroz', 'Feijão', 'Nescau', 'Ovos', 'Amendoin']\n",
            "['Arroz', 'Feijão', 'Nescau', 'Ovos']\n",
            "['Arroz', 'Feijão', 'Frango', 'Nescau', 'Ovos']\n",
            "['Arroz', 'Feijão', 'Nescau', 'Ovos']\n"
          ]
        }
      ]
    },
    {
      "cell_type": "code",
      "source": [],
      "metadata": {
        "id": "Rid--5Efs4UK"
      },
      "execution_count": null,
      "outputs": []
    }
  ]
}