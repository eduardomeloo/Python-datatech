{
  "nbformat": 4,
  "nbformat_minor": 0,
  "metadata": {
    "colab": {
      "provenance": [],
      "authorship_tag": "ABX9TyP3MdVKibvnf4YF4t5VrFi9",
      "include_colab_link": true
    },
    "kernelspec": {
      "name": "python3",
      "display_name": "Python 3"
    },
    "language_info": {
      "name": "python"
    }
  },
  "cells": [
    {
      "cell_type": "markdown",
      "metadata": {
        "id": "view-in-github",
        "colab_type": "text"
      },
      "source": [
        "<a href=\"https://colab.research.google.com/github/eduardomeloo/Python-datatech/blob/master/Aula_9_02_2023.ipynb\" target=\"_parent\"><img src=\"https://colab.research.google.com/assets/colab-badge.svg\" alt=\"Open In Colab\"/></a>"
      ]
    },
    {
      "cell_type": "markdown",
      "source": [
        "**Estrutura de Dados - Container**"
      ],
      "metadata": {
        "id": "oXB8RNxtbmpR"
      }
    },
    {
      "cell_type": "code",
      "source": [
        "lista_1 = [10,20,30,40,50,60]\n",
        "lista_2 = [500, True, 3.2, \"Eduardo\"]"
      ],
      "metadata": {
        "id": "SOGA7HZMbrvL"
      },
      "execution_count": 2,
      "outputs": []
    },
    {
      "cell_type": "code",
      "source": [
        "print(type(lista_2))\n",
        "print(type(lista_2[-1]))\n",
        "print(lista_2[-1][0])"
      ],
      "metadata": {
        "colab": {
          "base_uri": "https://localhost:8080/"
        },
        "id": "RfsYXkhqb6vo",
        "outputId": "ac94129d-ff25-484c-bb49-a0523699f4b1"
      },
      "execution_count": 6,
      "outputs": [
        {
          "output_type": "stream",
          "name": "stdout",
          "text": [
            "<class 'list'>\n",
            "<class 'str'>\n",
            "E\n"
          ]
        }
      ]
    },
    {
      "cell_type": "code",
      "source": [
        "lista_4 = [10, \"Thiago\", [\"Deivid\",\"Diego\"]]"
      ],
      "metadata": {
        "id": "avcuI4WKdCFt"
      },
      "execution_count": 8,
      "outputs": []
    },
    {
      "cell_type": "code",
      "source": [
        "print(lista_4[2][1][0])"
      ],
      "metadata": {
        "colab": {
          "base_uri": "https://localhost:8080/"
        },
        "id": "Q9eggAzTdZGl",
        "outputId": "510628ff-570e-496a-d3a2-c7d046130b98"
      },
      "execution_count": 10,
      "outputs": [
        {
          "output_type": "stream",
          "name": "stdout",
          "text": [
            "D\n"
          ]
        }
      ]
    },
    {
      "cell_type": "code",
      "source": [
        "lista_nomes = ['Eduardo', 'Tété', 'Eduardo', [\"edu\", \"du\"]]"
      ],
      "metadata": {
        "id": "atywtpfReEJ9"
      },
      "execution_count": 17,
      "outputs": []
    },
    {
      "cell_type": "code",
      "source": [
        "print(lista_nomes)\n",
        "print(len(lista_nomes))"
      ],
      "metadata": {
        "colab": {
          "base_uri": "https://localhost:8080/"
        },
        "id": "kM6FhOdOeKnt",
        "outputId": "247374b3-8ec9-4c3d-8d82-fa07debbf3b1"
      },
      "execution_count": 18,
      "outputs": [
        {
          "output_type": "stream",
          "name": "stdout",
          "text": [
            "['Eduardo', 'Tété', 'Eduardo', ['edu', 'du']]\n",
            "4\n"
          ]
        }
      ]
    },
    {
      "cell_type": "code",
      "source": [
        "dicionario_1 = {\n",
        "    'Deivid': 25,\n",
        "    'Henrique': 33,\n",
        "    'Eduardo': 30\n",
        "}"
      ],
      "metadata": {
        "id": "rr9LyKhjev9N"
      },
      "execution_count": 19,
      "outputs": []
    },
    {
      "cell_type": "code",
      "source": [
        "print(dicionario_1['Deivid'])\n",
        "print(dicionario_1['Eduardo'])"
      ],
      "metadata": {
        "colab": {
          "base_uri": "https://localhost:8080/"
        },
        "id": "WuwxKqcSfzVE",
        "outputId": "5c15a142-4f5d-44fa-ad74-1620dbed7e9e"
      },
      "execution_count": 23,
      "outputs": [
        {
          "output_type": "stream",
          "name": "stdout",
          "text": [
            "25\n",
            "30\n"
          ]
        }
      ]
    },
    {
      "cell_type": "code",
      "source": [
        "dicionario_2 = {25: 'Deivid', 33: 'Henrique'}"
      ],
      "metadata": {
        "id": "H4lc9FdagP6T"
      },
      "execution_count": 24,
      "outputs": []
    },
    {
      "cell_type": "code",
      "source": [
        "print(dicionario_2[25])\n",
        "print(dicionario_2[33])"
      ],
      "metadata": {
        "colab": {
          "base_uri": "https://localhost:8080/"
        },
        "id": "o6ywW2ujgefr",
        "outputId": "ce7e8744-92bc-4604-96ac-2b7f5ddeba1f"
      },
      "execution_count": 26,
      "outputs": [
        {
          "output_type": "stream",
          "name": "stdout",
          "text": [
            "Deivid\n",
            "Henrique\n"
          ]
        }
      ]
    },
    {
      "cell_type": "code",
      "source": [
        "alimentos = ['Arroz', 'Feijão', 'Nescau', 'Ovos']\n",
        "bebidas = ['Coca-cola', 'Suco', 'Guaravita']\n",
        "utilitario = ['Guarda-sol', 'Toalha de Mesa', 'Prato']\n",
        "\n",
        "corredores = {'Corredor1':alimentos, 'Corredor2':bebidas, 'Corredor3':utilitario}"
      ],
      "metadata": {
        "id": "HVCQmKx0gl5T"
      },
      "execution_count": 31,
      "outputs": []
    },
    {
      "cell_type": "code",
      "source": [
        "print(corredores['Corredor1'])\n",
        "print(corredores['Corredor1'][0])"
      ],
      "metadata": {
        "colab": {
          "base_uri": "https://localhost:8080/"
        },
        "id": "mDOV1yFDhygT",
        "outputId": "92617ef3-fffc-4942-ca7b-3a748e4db3fe"
      },
      "execution_count": 32,
      "outputs": [
        {
          "output_type": "stream",
          "name": "stdout",
          "text": [
            "['Arroz', 'Feijão', 'Nescau', 'Ovos']\n",
            "Arroz\n"
          ]
        }
      ]
    },
    {
      "cell_type": "code",
      "source": [],
      "metadata": {
        "id": "klAzS4I2h8K5"
      },
      "execution_count": null,
      "outputs": []
    }
  ]
}