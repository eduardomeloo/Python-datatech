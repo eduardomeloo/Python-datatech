{
  "nbformat": 4,
  "nbformat_minor": 0,
  "metadata": {
    "colab": {
      "provenance": [],
      "authorship_tag": "ABX9TyN/UtOOthpv5QTtv22R06bD",
      "include_colab_link": true
    },
    "kernelspec": {
      "name": "python3",
      "display_name": "Python 3"
    },
    "language_info": {
      "name": "python"
    }
  },
  "cells": [
    {
      "cell_type": "markdown",
      "metadata": {
        "id": "view-in-github",
        "colab_type": "text"
      },
      "source": [
        "<a href=\"https://colab.research.google.com/github/eduardomeloo/Python-datatech/blob/master/Aula_16_02_2023.ipynb\" target=\"_parent\"><img src=\"https://colab.research.google.com/assets/colab-badge.svg\" alt=\"Open In Colab\"/></a>"
      ]
    },
    {
      "cell_type": "markdown",
      "source": [
        "Estruturas de repetição:\n",
        "\n",
        "Função For\n",
        "Função range\n",
        "Função enumerate\n",
        "Função while\n"
      ],
      "metadata": {
        "id": "RNSWillVepcL"
      }
    },
    {
      "cell_type": "code",
      "source": [
        "produtos = ['mouse', 'teclado','processador']\n",
        "for produto in produtos:\n",
        "    print(produto)"
      ],
      "metadata": {
        "colab": {
          "base_uri": "https://localhost:8080/"
        },
        "id": "IEhmJSCce_4u",
        "outputId": "53e427cf-13d8-4349-f3a0-ded44be36f4e"
      },
      "execution_count": 2,
      "outputs": [
        {
          "output_type": "stream",
          "name": "stdout",
          "text": [
            "mouse\n",
            "teclado\n",
            "processador\n"
          ]
        }
      ]
    },
    {
      "cell_type": "code",
      "source": [],
      "metadata": {
        "id": "M6L_YOemgEaP"
      },
      "execution_count": null,
      "outputs": []
    }
  ]
}