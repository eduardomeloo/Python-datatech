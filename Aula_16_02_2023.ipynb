{
  "nbformat": 4,
  "nbformat_minor": 0,
  "metadata": {
    "colab": {
      "provenance": [],
      "authorship_tag": "ABX9TyNffKZ9qaMzuVz3fsClzs23",
      "include_colab_link": true
    },
    "kernelspec": {
      "name": "python3",
      "display_name": "Python 3"
    },
    "language_info": {
      "name": "python"
    }
  },
  "cells": [
    {
      "cell_type": "markdown",
      "metadata": {
        "id": "view-in-github",
        "colab_type": "text"
      },
      "source": [
        "<a href=\"https://colab.research.google.com/github/eduardomeloo/Python-datatech/blob/master/Aula_16_02_2023.ipynb\" target=\"_parent\"><img src=\"https://colab.research.google.com/assets/colab-badge.svg\" alt=\"Open In Colab\"/></a>"
      ]
    },
    {
      "cell_type": "markdown",
      "source": [
        "Estruturas de repetição:\n",
        "\n",
        "Função For\n",
        "Função range\n",
        "Função enumerate\n",
        "Função while\n"
      ],
      "metadata": {
        "id": "RNSWillVepcL"
      }
    },
    {
      "cell_type": "code",
      "source": [
        "produtos = ['mouse', 'teclado','processador']\n",
        "for produto in produtos:\n",
        "    print(produto)\n",
        "    print(produto.upper())"
      ],
      "metadata": {
        "colab": {
          "base_uri": "https://localhost:8080/"
        },
        "id": "IEhmJSCce_4u",
        "outputId": "3c5090d9-cd94-4f98-fed6-8b28647a4615"
      },
      "execution_count": 3,
      "outputs": [
        {
          "output_type": "stream",
          "name": "stdout",
          "text": [
            "mouse\n",
            "MOUSE\n",
            "teclado\n",
            "TECLADO\n",
            "processador\n",
            "PROCESSADOR\n"
          ]
        }
      ]
    },
    {
      "cell_type": "code",
      "source": [
        "precos = [20,60,15,40,50]\n",
        "desconto = 0.2\n",
        "\n",
        "for preco in precos:\n",
        "    print(f\"Preço original: {preco}\")\n",
        "    print(f\"Preço com desconto: {preco * (1 - desconto)}\")\n",
        "    print('-------------------------')"
      ],
      "metadata": {
        "colab": {
          "base_uri": "https://localhost:8080/"
        },
        "id": "M6L_YOemgEaP",
        "outputId": "86aed5a1-0c6a-4fb8-90ad-a8fcbafa0a37"
      },
      "execution_count": 5,
      "outputs": [
        {
          "output_type": "stream",
          "name": "stdout",
          "text": [
            "Preço original: 20\n",
            "Preço com desconto: 16.0\n",
            "-------------------------\n",
            "Preço original: 60\n",
            "Preço com desconto: 48.0\n",
            "-------------------------\n",
            "Preço original: 15\n",
            "Preço com desconto: 12.0\n",
            "-------------------------\n",
            "Preço original: 40\n",
            "Preço com desconto: 32.0\n",
            "-------------------------\n",
            "Preço original: 50\n",
            "Preço com desconto: 40.0\n",
            "-------------------------\n"
          ]
        }
      ]
    },
    {
      "cell_type": "code",
      "source": [
        "contador = list(range(10))\n",
        "contador"
      ],
      "metadata": {
        "colab": {
          "base_uri": "https://localhost:8080/"
        },
        "id": "0hSNO6tvh0fX",
        "outputId": "8f59db20-86f8-4d11-8e50-4a2771ad33e6"
      },
      "execution_count": 9,
      "outputs": [
        {
          "output_type": "execute_result",
          "data": {
            "text/plain": [
              "[0, 1, 2, 3, 4, 5, 6, 7, 8, 9]"
            ]
          },
          "metadata": {},
          "execution_count": 9
        }
      ]
    },
    {
      "cell_type": "code",
      "source": [
        "for x in range(10):\n",
        "    print(f\"Código executado {x} vezes\")"
      ],
      "metadata": {
        "colab": {
          "base_uri": "https://localhost:8080/"
        },
        "id": "RIPJWAj6i8F2",
        "outputId": "4a5dc90d-45f0-4558-8490-58b76c02463a"
      },
      "execution_count": 11,
      "outputs": [
        {
          "output_type": "stream",
          "name": "stdout",
          "text": [
            "Código executado 0 vezes\n",
            "Código executado 1 vezes\n",
            "Código executado 2 vezes\n",
            "Código executado 3 vezes\n",
            "Código executado 4 vezes\n",
            "Código executado 5 vezes\n",
            "Código executado 6 vezes\n",
            "Código executado 7 vezes\n",
            "Código executado 8 vezes\n",
            "Código executado 9 vezes\n"
          ]
        }
      ]
    },
    {
      "cell_type": "code",
      "source": [
        "nome, preco = ('computador', 5000)"
      ],
      "metadata": {
        "id": "x_5ijOfFjUT2"
      },
      "execution_count": 12,
      "outputs": []
    },
    {
      "cell_type": "code",
      "source": [
        "produtos_limpeza = [\n",
        "    ('sabão em pó', 15),\n",
        "    ('removedor', 24),\n",
        "    ('amaciante', 30)\n",
        "]\n",
        "\n",
        "for produto in produtos_limpeza:\n",
        "    print(f\"{produto[0]}\")\n",
        "    print(f\"{produto[1]}\")"
      ],
      "metadata": {
        "colab": {
          "base_uri": "https://localhost:8080/"
        },
        "id": "ROv-MehpmgYm",
        "outputId": "c0377113-05b5-4bdd-d5c8-f8e8861fd392"
      },
      "execution_count": 18,
      "outputs": [
        {
          "output_type": "stream",
          "name": "stdout",
          "text": [
            "sabão em pó\n",
            "15\n",
            "removedor\n",
            "24\n",
            "amaciante\n",
            "30\n"
          ]
        }
      ]
    },
    {
      "cell_type": "code",
      "source": [
        "produtos_limpeza = [\n",
        "    ('sabão em pó', 15),\n",
        "    ('removedor', 24),\n",
        "    ('amaciante', 30)\n",
        "]\n",
        "\n",
        "for nome, preco in produtos_limpeza:\n",
        "    print(f\"{nome} -> {preco}\")"
      ],
      "metadata": {
        "colab": {
          "base_uri": "https://localhost:8080/"
        },
        "id": "TTmyN0mGpjKo",
        "outputId": "fbbc7b49-2971-4948-a702-b3cf2cc323e8"
      },
      "execution_count": 19,
      "outputs": [
        {
          "output_type": "stream",
          "name": "stdout",
          "text": [
            "sabão em pó -> 15\n",
            "removedor -> 24\n",
            "amaciante -> 30\n"
          ]
        }
      ]
    },
    {
      "cell_type": "code",
      "source": [
        "cesta_basica = {\n",
        "    \"arroz\": 20,\n",
        "    \"feijão\": 10,\n",
        "    \"macarrão\": 3,\n",
        "    \"sal\": 1.5,\n",
        "}\n",
        "\n",
        "for chave in cesta_basica:\n",
        "    print(chave)\n",
        "\n",
        "for chave in cesta_basica.keys():\n",
        "    print(chave)\n",
        "\n",
        "for chave in cesta_basica.values():\n",
        "    print(chave)\n",
        "\n",
        "for chave in cesta_basica.items():\n",
        "    print(chave)    "
      ],
      "metadata": {
        "colab": {
          "base_uri": "https://localhost:8080/"
        },
        "id": "zalBDIdvoG9F",
        "outputId": "187e2c46-636c-46f0-e86a-b09c7d95eaae"
      },
      "execution_count": 24,
      "outputs": [
        {
          "output_type": "stream",
          "name": "stdout",
          "text": [
            "arroz\n",
            "feijão\n",
            "macarrão\n",
            "sal\n",
            "arroz\n",
            "feijão\n",
            "macarrão\n",
            "sal\n",
            "20\n",
            "10\n",
            "3\n",
            "1.5\n",
            "('arroz', 20)\n",
            "('feijão', 10)\n",
            "('macarrão', 3)\n",
            "('sal', 1.5)\n"
          ]
        }
      ]
    },
    {
      "cell_type": "code",
      "source": [],
      "metadata": {
        "id": "gv01rFTVtpF1"
      },
      "execution_count": null,
      "outputs": []
    }
  ]
}