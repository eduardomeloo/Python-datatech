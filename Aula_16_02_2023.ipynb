{
  "nbformat": 4,
  "nbformat_minor": 0,
  "metadata": {
    "colab": {
      "provenance": [],
      "authorship_tag": "ABX9TyOsOtxbPh8kWFwF/O/tNOdq",
      "include_colab_link": true
    },
    "kernelspec": {
      "name": "python3",
      "display_name": "Python 3"
    },
    "language_info": {
      "name": "python"
    }
  },
  "cells": [
    {
      "cell_type": "markdown",
      "metadata": {
        "id": "view-in-github",
        "colab_type": "text"
      },
      "source": [
        "<a href=\"https://colab.research.google.com/github/eduardomeloo/Python-datatech/blob/master/Aula_16_02_2023.ipynb\" target=\"_parent\"><img src=\"https://colab.research.google.com/assets/colab-badge.svg\" alt=\"Open In Colab\"/></a>"
      ]
    },
    {
      "cell_type": "markdown",
      "source": [
        "Estruturas de repetição:\n",
        "\n",
        "Função For\n",
        "Função range\n",
        "Função enumerate\n",
        "Função while\n"
      ],
      "metadata": {
        "id": "RNSWillVepcL"
      }
    },
    {
      "cell_type": "code",
      "source": [
        "produtos = ['mouse', 'teclado','processador']\n",
        "for produto in produtos:\n",
        "    print(produto)\n",
        "    print(produto.upper())"
      ],
      "metadata": {
        "colab": {
          "base_uri": "https://localhost:8080/"
        },
        "id": "IEhmJSCce_4u",
        "outputId": "3c5090d9-cd94-4f98-fed6-8b28647a4615"
      },
      "execution_count": 3,
      "outputs": [
        {
          "output_type": "stream",
          "name": "stdout",
          "text": [
            "mouse\n",
            "MOUSE\n",
            "teclado\n",
            "TECLADO\n",
            "processador\n",
            "PROCESSADOR\n"
          ]
        }
      ]
    },
    {
      "cell_type": "code",
      "source": [
        "precos = [20,60,15,40,50]\n",
        "desconto = 0.2\n",
        "\n",
        "for preco in precos:\n",
        "    print(f\"Preço original: {preco}\")\n",
        "    print(f\"Preço com desconto: {preco * (1 - desconto)}\")\n",
        "    print('-------------------------')"
      ],
      "metadata": {
        "colab": {
          "base_uri": "https://localhost:8080/"
        },
        "id": "M6L_YOemgEaP",
        "outputId": "86aed5a1-0c6a-4fb8-90ad-a8fcbafa0a37"
      },
      "execution_count": 5,
      "outputs": [
        {
          "output_type": "stream",
          "name": "stdout",
          "text": [
            "Preço original: 20\n",
            "Preço com desconto: 16.0\n",
            "-------------------------\n",
            "Preço original: 60\n",
            "Preço com desconto: 48.0\n",
            "-------------------------\n",
            "Preço original: 15\n",
            "Preço com desconto: 12.0\n",
            "-------------------------\n",
            "Preço original: 40\n",
            "Preço com desconto: 32.0\n",
            "-------------------------\n",
            "Preço original: 50\n",
            "Preço com desconto: 40.0\n",
            "-------------------------\n"
          ]
        }
      ]
    },
    {
      "cell_type": "code",
      "source": [
        "contador = list(range(10))\n",
        "contador"
      ],
      "metadata": {
        "colab": {
          "base_uri": "https://localhost:8080/"
        },
        "id": "0hSNO6tvh0fX",
        "outputId": "8f59db20-86f8-4d11-8e50-4a2771ad33e6"
      },
      "execution_count": 9,
      "outputs": [
        {
          "output_type": "execute_result",
          "data": {
            "text/plain": [
              "[0, 1, 2, 3, 4, 5, 6, 7, 8, 9]"
            ]
          },
          "metadata": {},
          "execution_count": 9
        }
      ]
    },
    {
      "cell_type": "code",
      "source": [
        "for x in range(10):\n",
        "    print(f\"Código executado {x} vezes\")"
      ],
      "metadata": {
        "colab": {
          "base_uri": "https://localhost:8080/"
        },
        "id": "RIPJWAj6i8F2",
        "outputId": "4a5dc90d-45f0-4558-8490-58b76c02463a"
      },
      "execution_count": 11,
      "outputs": [
        {
          "output_type": "stream",
          "name": "stdout",
          "text": [
            "Código executado 0 vezes\n",
            "Código executado 1 vezes\n",
            "Código executado 2 vezes\n",
            "Código executado 3 vezes\n",
            "Código executado 4 vezes\n",
            "Código executado 5 vezes\n",
            "Código executado 6 vezes\n",
            "Código executado 7 vezes\n",
            "Código executado 8 vezes\n",
            "Código executado 9 vezes\n"
          ]
        }
      ]
    },
    {
      "cell_type": "code",
      "source": [
        "nome, preco = ('computador', 5000)"
      ],
      "metadata": {
        "id": "x_5ijOfFjUT2"
      },
      "execution_count": 12,
      "outputs": []
    },
    {
      "cell_type": "code",
      "source": [
        "produtos_limpeza = [\n",
        "    ('sabão em pó', 15),\n",
        "    ('removedor', 24),\n",
        "    ('amaciante', 30)\n",
        "]\n",
        "\n",
        "for produto in produtos_limpeza:\n",
        "    print(f\"{produto[0]}\")\n",
        "    print(f\"{produto[1]}\")"
      ],
      "metadata": {
        "colab": {
          "base_uri": "https://localhost:8080/"
        },
        "id": "ROv-MehpmgYm",
        "outputId": "c0377113-05b5-4bdd-d5c8-f8e8861fd392"
      },
      "execution_count": 18,
      "outputs": [
        {
          "output_type": "stream",
          "name": "stdout",
          "text": [
            "sabão em pó\n",
            "15\n",
            "removedor\n",
            "24\n",
            "amaciante\n",
            "30\n"
          ]
        }
      ]
    },
    {
      "cell_type": "code",
      "source": [
        "produtos_limpeza = [\n",
        "    ('sabão em pó', 15),\n",
        "    ('removedor', 24),\n",
        "    ('amaciante', 30)\n",
        "]\n",
        "\n",
        "for nome, preco in produtos_limpeza:\n",
        "    print(f\"{nome} -> {preco}\")"
      ],
      "metadata": {
        "colab": {
          "base_uri": "https://localhost:8080/"
        },
        "id": "TTmyN0mGpjKo",
        "outputId": "fbbc7b49-2971-4948-a702-b3cf2cc323e8"
      },
      "execution_count": 19,
      "outputs": [
        {
          "output_type": "stream",
          "name": "stdout",
          "text": [
            "sabão em pó -> 15\n",
            "removedor -> 24\n",
            "amaciante -> 30\n"
          ]
        }
      ]
    },
    {
      "cell_type": "code",
      "source": [
        "cesta_basica = {\n",
        "    \"arroz\": 20,\n",
        "    \"feijão\": 10,\n",
        "    \"macarrão\": 3,\n",
        "    \"sal\": 1.5,\n",
        "}\n",
        "\n",
        "for chave in cesta_basica:\n",
        "    print(chave)\n",
        "\n",
        "for chave in cesta_basica.keys():\n",
        "    print(chave)\n",
        "\n",
        "for chave in cesta_basica.values():\n",
        "    print(chave)\n",
        "\n",
        "for chave in cesta_basica.items():\n",
        "    print(chave)    "
      ],
      "metadata": {
        "colab": {
          "base_uri": "https://localhost:8080/"
        },
        "id": "zalBDIdvoG9F",
        "outputId": "187e2c46-636c-46f0-e86a-b09c7d95eaae"
      },
      "execution_count": 24,
      "outputs": [
        {
          "output_type": "stream",
          "name": "stdout",
          "text": [
            "arroz\n",
            "feijão\n",
            "macarrão\n",
            "sal\n",
            "arroz\n",
            "feijão\n",
            "macarrão\n",
            "sal\n",
            "20\n",
            "10\n",
            "3\n",
            "1.5\n",
            "('arroz', 20)\n",
            "('feijão', 10)\n",
            "('macarrão', 3)\n",
            "('sal', 1.5)\n"
          ]
        }
      ]
    },
    {
      "cell_type": "code",
      "source": [],
      "metadata": {
        "id": "gv01rFTVtpF1"
      },
      "execution_count": null,
      "outputs": []
    },
    {
      "cell_type": "code",
      "source": [
        "dir(str)\n",
        "print('teste')"
      ],
      "metadata": {
        "colab": {
          "base_uri": "https://localhost:8080/"
        },
        "id": "Nic_G8WQugen",
        "outputId": "d8d6ef06-0d58-4fb7-95a3-2a151a316c90"
      },
      "execution_count": 26,
      "outputs": [
        {
          "output_type": "stream",
          "name": "stdout",
          "text": [
            "teste\n"
          ]
        }
      ]
    },
    {
      "cell_type": "code",
      "source": [
        "print(enumerate(cesta_basica))\n",
        "print(list(enumerate(cesta_basica)))\n",
        "print(list(enumerate(cesta_basica.items())))\n",
        "\n",
        "for posicao, chave in enumerate(cesta_basica):\n",
        "    print(f\"O {chave} aparece na posicao {posicao}\")"
      ],
      "metadata": {
        "colab": {
          "base_uri": "https://localhost:8080/"
        },
        "id": "CIBb9ARouhul",
        "outputId": "abcec499-c925-4f07-bf37-e2aacfd7ae46"
      },
      "execution_count": 32,
      "outputs": [
        {
          "output_type": "stream",
          "name": "stdout",
          "text": [
            "<enumerate object at 0x7f34b27f3e80>\n",
            "[(0, 'arroz'), (1, 'feijão'), (2, 'macarrão'), (3, 'sal')]\n",
            "[(0, ('arroz', 20)), (1, ('feijão', 10)), (2, ('macarrão', 3)), (3, ('sal', 1.5))]\n",
            "O arroz aparece na posicao 0\n",
            "O feijão aparece na posicao 1\n",
            "O macarrão aparece na posicao 2\n",
            "O sal aparece na posicao 3\n"
          ]
        }
      ]
    },
    {
      "cell_type": "code",
      "source": [
        "nome = 'Eduardo Peixoto de Melo'\n",
        "\n",
        "for letra in nome:\n",
        "    print(letra)"
      ],
      "metadata": {
        "colab": {
          "base_uri": "https://localhost:8080/"
        },
        "id": "LBSFGiEbvyms",
        "outputId": "1cb83472-7116-4fd1-ed74-847fed9d0a73"
      },
      "execution_count": 33,
      "outputs": [
        {
          "output_type": "stream",
          "name": "stdout",
          "text": [
            "E\n",
            "d\n",
            "u\n",
            "a\n",
            "r\n",
            "d\n",
            "o\n",
            " \n",
            "P\n",
            "e\n",
            "i\n",
            "x\n",
            "o\n",
            "t\n",
            "o\n",
            " \n",
            "d\n",
            "e\n",
            " \n",
            "M\n",
            "e\n",
            "l\n",
            "o\n"
          ]
        }
      ]
    },
    {
      "cell_type": "code",
      "source": [
        "for posicao, letra in enumerate(nome):\n",
        "    print(f\"{posicao} -> {letra}\")"
      ],
      "metadata": {
        "colab": {
          "base_uri": "https://localhost:8080/"
        },
        "id": "ZwMTPm0JwpVY",
        "outputId": "5699c23d-d1b3-4eb3-ead7-039f32b244b2"
      },
      "execution_count": 34,
      "outputs": [
        {
          "output_type": "stream",
          "name": "stdout",
          "text": [
            "0 -> E\n",
            "1 -> d\n",
            "2 -> u\n",
            "3 -> a\n",
            "4 -> r\n",
            "5 -> d\n",
            "6 -> o\n",
            "7 ->  \n",
            "8 -> P\n",
            "9 -> e\n",
            "10 -> i\n",
            "11 -> x\n",
            "12 -> o\n",
            "13 -> t\n",
            "14 -> o\n",
            "15 ->  \n",
            "16 -> d\n",
            "17 -> e\n",
            "18 ->  \n",
            "19 -> M\n",
            "20 -> e\n",
            "21 -> l\n",
            "22 -> o\n"
          ]
        }
      ]
    },
    {
      "cell_type": "code",
      "source": [
        "n = 0\n",
        "while(n <= 10):\n",
        "    print(n)\n",
        "    n+=1"
      ],
      "metadata": {
        "colab": {
          "base_uri": "https://localhost:8080/"
        },
        "id": "-7dEhPdYwnRs",
        "outputId": "2e38df1a-6c78-48e1-e7fc-5ce94694dc0e"
      },
      "execution_count": 35,
      "outputs": [
        {
          "output_type": "stream",
          "name": "stdout",
          "text": [
            "0\n",
            "1\n",
            "2\n",
            "3\n",
            "4\n",
            "5\n",
            "6\n",
            "7\n",
            "8\n",
            "9\n",
            "10\n"
          ]
        }
      ]
    },
    {
      "cell_type": "code",
      "source": [
        "qtd_em_estoque = 50\n",
        "\n",
        "while qtd_em_estoque > 0:\n",
        "  qtd_comprada = int(input('Quantos deste produto você deseja comprar?'))\n",
        "\n",
        "  if qtd_em_estoque >= qtd_comprada:\n",
        "      print(f\"Pedido de {qtd_comprada}\" realizado!)\n",
        "      qtd_em_estoque -= qtd_comprada\n",
        "  else:\n",
        "      print('Não temos essa quantidade de produtos')"
      ],
      "metadata": {
        "id": "HDcegGpSxdhj"
      },
      "execution_count": null,
      "outputs": []
    }
  ]
}