{
  "nbformat": 4,
  "nbformat_minor": 0,
  "metadata": {
    "colab": {
      "provenance": [],
      "authorship_tag": "ABX9TyNJqOHAkCMtcTC+2LzHFU7Y",
      "include_colab_link": true
    },
    "kernelspec": {
      "name": "python3",
      "display_name": "Python 3"
    },
    "language_info": {
      "name": "python"
    }
  },
  "cells": [
    {
      "cell_type": "markdown",
      "metadata": {
        "id": "view-in-github",
        "colab_type": "text"
      },
      "source": [
        "<a href=\"https://colab.research.google.com/github/eduardomeloo/Python-datatech/blob/master/Aula_07_02_2023.ipynb\" target=\"_parent\"><img src=\"https://colab.research.google.com/assets/colab-badge.svg\" alt=\"Open In Colab\"/></a>"
      ]
    },
    {
      "cell_type": "markdown",
      "source": [
        "**Variáveis e Estrutura de Dados**"
      ],
      "metadata": {
        "id": "HkGX-WASIL4b"
      }
    },
    {
      "cell_type": "code",
      "source": [
        "#Operador de atribuição\n",
        "resultado = 2 + 50\n",
        "Resultado = 2 + 51\n",
        "#resultado != de Resultado -> Python é case sensitive\n",
        "print(resultado, Resultado)"
      ],
      "metadata": {
        "colab": {
          "base_uri": "https://localhost:8080/"
        },
        "id": "Xz02ncOyIRUF",
        "outputId": "504ebef9-80d3-44af-8aa2-1deca0115580"
      },
      "execution_count": 3,
      "outputs": [
        {
          "output_type": "stream",
          "name": "stdout",
          "text": [
            "52 53\n"
          ]
        }
      ]
    },
    {
      "cell_type": "markdown",
      "source": [
        "**Consultar Funções Nativas no Python**\n",
        "\n",
        "https://docs.python.org/3/library/functions.html\n",
        "\n",
        "https://docs.python.org/3/library/stdtypes.html#string-methods"
      ],
      "metadata": {
        "id": "IggwCfaKMGsp"
      }
    },
    {
      "cell_type": "markdown",
      "source": [
        "**Strings (sequência de caracteres)**"
      ],
      "metadata": {
        "id": "9SYqTVf7MBWo"
      }
    },
    {
      "cell_type": "code",
      "source": [
        "nomeEmpresa = \"barcelos\"\n",
        "nomeEmpresa.upper()"
      ],
      "metadata": {
        "colab": {
          "base_uri": "https://localhost:8080/",
          "height": 35
        },
        "id": "kWs9eyacMdLN",
        "outputId": "0597a0a8-ee88-4931-b370-f441586a62a2"
      },
      "execution_count": 13,
      "outputs": [
        {
          "output_type": "execute_result",
          "data": {
            "text/plain": [
              "'BARCELOS'"
            ],
            "application/vnd.google.colaboratory.intrinsic+json": {
              "type": "string"
            }
          },
          "metadata": {},
          "execution_count": 13
        }
      ]
    },
    {
      "cell_type": "code",
      "source": [
        "nomeEmpresa.capitalize()"
      ],
      "metadata": {
        "colab": {
          "base_uri": "https://localhost:8080/",
          "height": 35
        },
        "id": "A4SiFHiHN5am",
        "outputId": "fd51c9fb-edcb-4039-fc67-2cbf593563bc"
      },
      "execution_count": 9,
      "outputs": [
        {
          "output_type": "execute_result",
          "data": {
            "text/plain": [
              "'Barcelos hoje'"
            ],
            "application/vnd.google.colaboratory.intrinsic+json": {
              "type": "string"
            }
          },
          "metadata": {},
          "execution_count": 9
        }
      ]
    },
    {
      "cell_type": "code",
      "source": [
        "nomeEmpresa.count(\"a\")"
      ],
      "metadata": {
        "colab": {
          "base_uri": "https://localhost:8080/"
        },
        "id": "Ut1UXkS6N_CI",
        "outputId": "c1ece2bc-9f20-4e65-e223-7c71b3dfb88a"
      },
      "execution_count": 7,
      "outputs": [
        {
          "output_type": "execute_result",
          "data": {
            "text/plain": [
              "1"
            ]
          },
          "metadata": {},
          "execution_count": 7
        }
      ]
    },
    {
      "cell_type": "code",
      "source": [
        "4.7 == \"4.7\""
      ],
      "metadata": {
        "colab": {
          "base_uri": "https://localhost:8080/"
        },
        "id": "9EdJgj-FTHdZ",
        "outputId": "708edd75-7859-4259-cb96-9846d0f50e6a"
      },
      "execution_count": 10,
      "outputs": [
        {
          "output_type": "execute_result",
          "data": {
            "text/plain": [
              "False"
            ]
          },
          "metadata": {},
          "execution_count": 10
        }
      ]
    },
    {
      "cell_type": "code",
      "source": [
        "#Concatenar Strings\n",
        "\"1\" + \"1\""
      ],
      "metadata": {
        "colab": {
          "base_uri": "https://localhost:8080/",
          "height": 35
        },
        "id": "f2kPy5NYTJm5",
        "outputId": "ace8486d-7df2-46b0-c1fb-601e472e8499"
      },
      "execution_count": 11,
      "outputs": [
        {
          "output_type": "execute_result",
          "data": {
            "text/plain": [
              "'11'"
            ],
            "application/vnd.google.colaboratory.intrinsic+json": {
              "type": "string"
            }
          },
          "metadata": {},
          "execution_count": 11
        }
      ]
    },
    {
      "cell_type": "code",
      "source": [
        "nomeEmpresa.endswith(\"elos\")"
      ],
      "metadata": {
        "colab": {
          "base_uri": "https://localhost:8080/"
        },
        "id": "TliYV7PEUL2T",
        "outputId": "3cf23483-ab4c-498e-d4d6-bf6c68e6a422"
      },
      "execution_count": 15,
      "outputs": [
        {
          "output_type": "execute_result",
          "data": {
            "text/plain": [
              "True"
            ]
          },
          "metadata": {},
          "execution_count": 15
        }
      ]
    },
    {
      "cell_type": "code",
      "source": [
        "nomeEmpresa.startswith(\"bar\")"
      ],
      "metadata": {
        "colab": {
          "base_uri": "https://localhost:8080/"
        },
        "id": "GfeQXl8MUnyb",
        "outputId": "a5dc859f-ee21-4ab4-def7-3f0dd0861cd8"
      },
      "execution_count": 17,
      "outputs": [
        {
          "output_type": "execute_result",
          "data": {
            "text/plain": [
              "True"
            ]
          },
          "metadata": {},
          "execution_count": 17
        }
      ]
    },
    {
      "cell_type": "code",
      "source": [
        "nome = \"Eduardo peixoto de melo\"\n",
        "nome.title()"
      ],
      "metadata": {
        "colab": {
          "base_uri": "https://localhost:8080/",
          "height": 35
        },
        "id": "3PvLwYELU1yr",
        "outputId": "19d3d234-f502-4081-a40a-94e7186a755e"
      },
      "execution_count": 18,
      "outputs": [
        {
          "output_type": "execute_result",
          "data": {
            "text/plain": [
              "'Eduardo Peixoto De Melo'"
            ],
            "application/vnd.google.colaboratory.intrinsic+json": {
              "type": "string"
            }
          },
          "metadata": {},
          "execution_count": 18
        }
      ]
    },
    {
      "cell_type": "code",
      "source": [
        "#Fatiamento de Strings\n",
        "#Notação de []\n",
        "print(nome[0])  #Primeira letra da String\n",
        "print(nome[0:7])\n",
        "print(nome[8:])\n",
        "print(nome[-1]) #Última letra da String"
      ],
      "metadata": {
        "colab": {
          "base_uri": "https://localhost:8080/"
        },
        "id": "XacajKySVlpU",
        "outputId": "c48c3d5e-0586-4165-c05c-9b4ab6af8722"
      },
      "execution_count": 29,
      "outputs": [
        {
          "output_type": "stream",
          "name": "stdout",
          "text": [
            "E\n",
            "Eduardo\n",
            "peixoto de melo\n",
            "o\n"
          ]
        }
      ]
    },
    {
      "cell_type": "code",
      "source": [
        "nome_arquivo = \"minha_planilha.xlsx\"\n",
        "nome_arquivo.split()"
      ],
      "metadata": {
        "colab": {
          "base_uri": "https://localhost:8080/"
        },
        "id": "8M6LSA0sasQT",
        "outputId": "5cbca459-0c34-4904-d9a0-390f6c03e16d"
      },
      "execution_count": 31,
      "outputs": [
        {
          "output_type": "execute_result",
          "data": {
            "text/plain": [
              "['minha_planilha.xlsx']"
            ]
          },
          "metadata": {},
          "execution_count": 31
        }
      ]
    },
    {
      "cell_type": "code",
      "source": [
        "type(nome_arquivo.split())"
      ],
      "metadata": {
        "colab": {
          "base_uri": "https://localhost:8080/"
        },
        "id": "TVfXKS_ca5Y3",
        "outputId": "f5a66733-aa90-4f96-fbd7-b8aa10a15301"
      },
      "execution_count": 33,
      "outputs": [
        {
          "output_type": "execute_result",
          "data": {
            "text/plain": [
              "list"
            ]
          },
          "metadata": {},
          "execution_count": 33
        }
      ]
    },
    {
      "cell_type": "code",
      "source": [
        "teste = nome_arquivo.split(\".\")[1]"
      ],
      "metadata": {
        "id": "ir6-6uDYbLhp"
      },
      "execution_count": 45,
      "outputs": []
    },
    {
      "cell_type": "code",
      "source": [
        "extensao = f\".{teste}\"\n",
        "extensao"
      ],
      "metadata": {
        "colab": {
          "base_uri": "https://localhost:8080/",
          "height": 35
        },
        "id": "TnWxU7v3hZIh",
        "outputId": "59cbdecd-5f5c-44b9-9984-a52783a871f8"
      },
      "execution_count": 47,
      "outputs": [
        {
          "output_type": "execute_result",
          "data": {
            "text/plain": [
              "'.xlsx'"
            ],
            "application/vnd.google.colaboratory.intrinsic+json": {
              "type": "string"
            }
          },
          "metadata": {},
          "execution_count": 47
        }
      ]
    }
  ]
}