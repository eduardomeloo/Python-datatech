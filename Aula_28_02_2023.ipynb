{
  "nbformat": 4,
  "nbformat_minor": 0,
  "metadata": {
    "colab": {
      "provenance": [],
      "authorship_tag": "ABX9TyOV5zDtIiD6djlwFgxnSCMF",
      "include_colab_link": true
    },
    "kernelspec": {
      "name": "python3",
      "display_name": "Python 3"
    },
    "language_info": {
      "name": "python"
    }
  },
  "cells": [
    {
      "cell_type": "markdown",
      "metadata": {
        "id": "view-in-github",
        "colab_type": "text"
      },
      "source": [
        "<a href=\"https://colab.research.google.com/github/eduardomeloo/Python-datatech/blob/master/Aula_28_02_2023.ipynb\" target=\"_parent\"><img src=\"https://colab.research.google.com/assets/colab-badge.svg\" alt=\"Open In Colab\"/></a>"
      ]
    },
    {
      "cell_type": "markdown",
      "source": [],
      "metadata": {
        "id": "qm1xzfsoVOMC"
      }
    },
    {
      "cell_type": "code",
      "source": [
        "#1- pedir CPF do cliente\n",
        "cpf = input(\"Digite seu cpf no formato 000.000.000-00\")\n",
        "\n",
        "# Quando é um CPF válido?\n",
        "#1. 14 Caracteres\n",
        "#2. Validar cada bloco de 3 dígitos se são números\n",
        "#3. Validar os 2 últimos dígitos verificadores\n",
        "#4- Validar Pontuações\n",
        "\n",
        "cpf_valido = (\n",
        "    len(cpf) == 14\n",
        "    and cpf[:3].isdigit()\n",
        "    and cpf[4:7].isdigit()\n",
        "    and cpf[8:11].isdigit()\n",
        "    and cpf[-2:].isdigit()\n",
        "    and cpf[3] == \".\"\n",
        "    and cpf[7] == \".\"\n",
        "    and cpf[11] == \"-\"\n",
        ")\n",
        "\n",
        "valor_da_compra = float(input(\"Digite o valor da Compa: \"))\n",
        "pontuacao = int(valor_da_compra * 10)\n",
        "\n",
        "base_clientes = {\"000.000.000-00\": [\"henrique\", 50]}\n",
        "if cpf in base_clientes.keys():\n",
        "  base_clientes[cpf][1] + pontuacao\n",
        "  print(f\"Você possui  {base_clientes[cpf][1]} pontos!\")\n",
        "else:\n",
        "  cadastrar = input(\"Deseja cadastrar e ganhar 10 pontos? S/N: \")    \n",
        "  if cadastrar.lower() == \"s\":\n",
        "    PONTUACAO_INICIAL = 10\n",
        "    nome = input(\"Digite seu nome: \")\n",
        "    base_clientes[cpf] = [nome, PONTUACAO_INICIAL + pontuacao]\n",
        "    print(\"Cadastro finalizado!\")\n",
        "    print(f\"Você possui  {base_clientes[cpf][1]} pontos!\")\n",
        "  elif cadastrar.lower() == \"n\":\n",
        "    print(\"Tudo bem, obrigado pela compra!\")\n",
        "  else:\n",
        "    print(\"Opção inválida!\")\n"
      ],
      "metadata": {
        "colab": {
          "base_uri": "https://localhost:8080/"
        },
        "id": "k_1x0syJVPXK",
        "outputId": "20b26866-0a9c-4aa8-a672-6a9426dfa612"
      },
      "execution_count": 1,
      "outputs": [
        {
          "name": "stdout",
          "output_type": "stream",
          "text": [
            "Digite seu cpf no formato 000.000.000-00fsdfsf\n"
          ]
        }
      ]
    }
  ]
}