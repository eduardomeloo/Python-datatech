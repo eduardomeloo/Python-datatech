{
  "nbformat": 4,
  "nbformat_minor": 0,
  "metadata": {
    "colab": {
      "provenance": [],
      "authorship_tag": "ABX9TyPTcxnCedV8nlmAk14vQTkT",
      "include_colab_link": true
    },
    "kernelspec": {
      "name": "python3",
      "display_name": "Python 3"
    },
    "language_info": {
      "name": "python"
    }
  },
  "cells": [
    {
      "cell_type": "markdown",
      "metadata": {
        "id": "view-in-github",
        "colab_type": "text"
      },
      "source": [
        "<a href=\"https://colab.research.google.com/github/eduardomeloo/Python-datatech/blob/master/Aula_28_02_2023.ipynb\" target=\"_parent\"><img src=\"https://colab.research.google.com/assets/colab-badge.svg\" alt=\"Open In Colab\"/></a>"
      ]
    },
    {
      "cell_type": "markdown",
      "source": [],
      "metadata": {
        "id": "qm1xzfsoVOMC"
      }
    },
    {
      "cell_type": "code",
      "source": [
        "#1- pedir CPF do cliente\n",
        "cpf = input(\"Digite seu cpf no formato 000.000.000-00\")\n",
        "\n",
        "# Quando é um CPF válido?\n",
        "#1. 14 Caracteres\n",
        "#2. Validar cada bloco de 3 dígitos se são números\n",
        "#3. Validar os 2 últimos dígitos verificadores\n",
        "#4- Validar Pontuações\n",
        "\n",
        "cpf_valido = (\n",
        "    len(cpf) == 14\n",
        "    and cpf[:3].isdigit()\n",
        "    and cpf[4:7].isdigit()\n",
        "    and cpf[8:11].isdigit()\n",
        "    and cpf[-2:].isdigit()\n",
        "    and cpf[3] == \".\"\n",
        "    and cpf[7] == \".\"\n",
        "    and cpf[11] == \"-\"\n",
        ")\n",
        "\n",
        "while not cpf_valido:\n",
        "  cpf = input(\n",
        "      \"CPF inválido. Digite novamente, por favor, no formato 000.000.000-00: \"\n",
        "  )\n",
        "\n",
        "  cpf_valido = (\n",
        "    len(cpf) == 14\n",
        "    and cpf[:3].isdigit()\n",
        "    and cpf[4:7].isdigit()\n",
        "    and cpf[8:11].isdigit()\n",
        "    and cpf[-2:].isdigit()\n",
        "    and cpf[3] == \".\"\n",
        "    and cpf[7] == \".\"\n",
        "    and cpf[11] == \"-\"\n",
        ")\n",
        "\n",
        "valor_da_compra = float(input(\"Digite o valor da Compa: \"))\n",
        "pontuacao = int(valor_da_compra * 10)\n",
        "\n",
        "base_clientes = {\"000.000.000-00\": [\"henrique\", 50]}\n",
        "if cpf in base_clientes.keys():\n",
        "  base_clientes[cpf][1] + pontuacao\n",
        "  print(f\"Você possui  {base_clientes[cpf][1]} pontos!\")\n",
        "else:\n",
        "  cadastrar = input(\"Deseja cadastrar e ganhar 10 pontos? S/N: \")    \n",
        "  if cadastrar.lower() == \"s\":\n",
        "    PONTUACAO_INICIAL = 10\n",
        "    nome = input(\"Digite seu nome: \")\n",
        "    base_clientes[cpf] = [nome, PONTUACAO_INICIAL + pontuacao]\n",
        "    print(\"Cadastro finalizado!\")\n",
        "    print(f\"Você possui  {base_clientes[cpf][1]} pontos!\")\n",
        "  elif cadastrar.lower() == \"n\":\n",
        "    print(\"Tudo bem, obrigado pela compra!\")\n",
        "  else:\n",
        "    print(\"Opção inválida!\")\n"
      ],
      "metadata": {
        "colab": {
          "base_uri": "https://localhost:8080/"
        },
        "id": "k_1x0syJVPXK",
        "outputId": "145e3bff-19fb-48f5-9ebd-2f22d3a9a8c0"
      },
      "execution_count": 3,
      "outputs": [
        {
          "output_type": "stream",
          "name": "stdout",
          "text": [
            "Digite seu cpf no formato 000.000.000-00000.000.000-01\n",
            "Digite o valor da Compa: 100\n",
            "Deseja cadastrar e ganhar 10 pontos? S/N: s\n",
            "Digite seu nome: edu\n",
            "Cadastro finalizado!\n",
            "Você possui  1010 pontos!\n"
          ]
        }
      ]
    },
    {
      "cell_type": "markdown",
      "source": [],
      "metadata": {
        "id": "s4VK0J8OeT9c"
      }
    },
    {
      "cell_type": "code",
      "source": [
        "categorias = {'padaria' : {}, \n",
        "              'utilitarios' : {}, \n",
        "              'bebidas' : {}, \n",
        "              'limpeza' : {}}\n",
        "\n",
        "categoria_produto = input(\"Informe a categoria do produto do produto: \")\n",
        "\n",
        "while categoria_produto.lower() not in categorias:\n",
        "  categoria_produto = input(\"Por favor Informe uma categoria válida...: \")\n",
        "\n",
        "nome_produto = input(\"Informe o nome do produto: \")\n",
        "while not all (letra.isalpha() or letra.isspace() for letra in nome_produto):\n",
        "  nome_produto = input(\"Informe um nome do produto válido...: \")\n",
        "\n",
        "def isfloat(num):\n",
        "  try:\n",
        "    float(num)\n",
        "    return True\n",
        "  except ValueError:\n",
        "    return False\n",
        "\n",
        "preco_produto = input(\"Informe o preco do produto: \")\n",
        "while (not isfloat(preco_produto)):\n",
        "  preco_produto = input(\"Informe um preço válido...: \")\n",
        "\n",
        "quantidade_produto = input(\"Informe a quantidade do produto: \")\n",
        "while (not quantidade_produto.isdigit()):\n",
        "  quantidade_produto = input(\"Informe uma quantidade válida...: \")\n",
        "\n"
      ],
      "metadata": {
        "colab": {
          "base_uri": "https://localhost:8080/"
        },
        "id": "OZBIXHC_dSzA",
        "outputId": "ae24962c-66e5-465b-f50b-9d3eeb6fd326"
      },
      "execution_count": 14,
      "outputs": [
        {
          "name": "stdout",
          "output_type": "stream",
          "text": [
            "Informe a categoria do produto do produto: padaria\n",
            "Informe o nome do produto: !@#\n",
            "Informe um nome do produto válido: teste\n"
          ]
        }
      ]
    },
    {
      "cell_type": "code",
      "source": [],
      "metadata": {
        "id": "F1kaQMitj8r6"
      },
      "execution_count": 21,
      "outputs": []
    }
  ]
}